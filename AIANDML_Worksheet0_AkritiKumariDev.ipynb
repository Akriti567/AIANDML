{
  "cells": [
    {
      "cell_type": "markdown",
      "metadata": {
        "id": "aU8zrqlVYEJX"
      },
      "source": [
        "Task 1\n",
        "Create a Python program that converts between different units of measurement.\n",
        "• The program should:\n",
        "1. Prompt the user to choose the type of conversion (e.g., length, weight, volume).\n",
        "2. Ask the user to input the value to be converted.\n",
        "3. Perform the conversion and display the result.\n",
        "4. Handle potential errors, such as invalid input or unsupported conversion types."
      ]
    },
    {
      "cell_type": "code",
      "execution_count": null,
      "metadata": {
        "colab": {
          "base_uri": "https://localhost:8080/"
        },
        "id": "t83pH3YPYzvN",
        "outputId": "619597b5-298c-48d1-eecf-b33d55314f7d"
      },
      "outputs": [
        {
          "name": "stdout",
          "output_type": "stream",
          "text": [
            "Unit Converter\n",
            "1. Meters to Feet\n",
            "2. Feet to Meters\n",
            "3. Kilograms to Pounds\n",
            "4. Pounds to Kilograms\n",
            "5. Liters to Gallons\n",
            "6. Gallons to Liters\n",
            "Enter your choice (1-6): a\n",
            "Invalid choice! Please select a valid option.\n"
          ]
        }
      ],
      "source": [
        "def convert_units(value, conversion_factor):\n",
        "    \"\"\"Convert units using a given conversion factor.\"\"\"\n",
        "    return value * conversion_factor\n",
        "\n",
        "def main():\n",
        "    print(\"Unit Converter\")\n",
        "    print(\"1. Meters to Feet\\n2. Feet to Meters\\n3. Kilograms to Pounds\")\n",
        "    print(\"4. Pounds to Kilograms\\n5. Liters to Gallons\\n6. Gallons to Liters\")\n",
        "\n",
        "    choice = input(\"Enter your choice (1-6): \")\n",
        "    conversions = {\n",
        "        \"1\": (\"Meters\", \"Feet\", 3.28084),\n",
        "        \"2\": (\"Feet\", \"Meters\", 1 / 3.28084),\n",
        "        \"3\": (\"Kilograms\", \"Pounds\", 2.20462),\n",
        "        \"4\": (\"Pounds\", \"Kilograms\", 1 / 2.20462),\n",
        "        \"5\": (\"Liters\", \"Gallons\", 0.264172),\n",
        "        \"6\": (\"Gallons\", \"Liters\", 1 / 0.264172),\n",
        "    }\n",
        "\n",
        "    if choice in conversions:\n",
        "        unit_from, unit_to, factor = conversions[choice]\n",
        "        try:\n",
        "            value = float(input(f\"Enter value in {unit_from}: \"))\n",
        "            result = convert_units(value, factor)\n",
        "            print(f\"{value} {unit_from} = {result:.4f} {unit_to}\")\n",
        "        except ValueError:\n",
        "            print(\"Invalid input! Please enter a number.\")\n",
        "    else:\n",
        "        print(\"Invalid choice! Please select a valid option.\")\n",
        "\n",
        "if __name__ == \"__main__\":\n",
        "    main()\n"
      ]
    },
    {
      "cell_type": "markdown",
      "metadata": {
        "id": "oN0E6TUYdflR"
      },
      "source": [
        "Task - 2:\n",
        "Create a Python program that performs various mathematical operations on a list of numbers.\n",
        "• The Program should:\n",
        "1. Prompt the user to choose an operation (e.g., find the sum, average, maximum, or minimum\n",
        "of the numbers).\n",
        "2. Ask the user to input a list of numbers (separated by spaces).\n",
        "3. Perform the selected operation and display the result.\n",
        "4. Handle potential errors, such as invalid input or empty lists."
      ]
    },
    {
      "cell_type": "code",
      "execution_count": null,
      "metadata": {
        "colab": {
          "base_uri": "https://localhost:8080/"
        },
        "id": "r-0gcM9-faIp",
        "outputId": "ef6ff5a1-5696-41b5-c244-6a20d7e17026"
      },
      "outputs": [
        {
          "name": "stdout",
          "output_type": "stream",
          "text": [
            "Math Operations on a List\n",
            "1. Sum\n",
            "2. Average\n",
            "3. Maximum\n",
            "4. Minimum\n",
            "Enter your choice (1-4): 4\n",
            "Enter numbers separated by spaces: 10 20 30 5\n",
            "Minimum: 5.0\n"
          ]
        }
      ],
      "source": [
        "def calculate_sum(numbers):\n",
        "    \"\"\"Returns the sum of the given list of numbers.\"\"\"\n",
        "    return sum(numbers)\n",
        "\n",
        "def calculate_average(numbers):\n",
        "    \"\"\"Returns the average of the given list of numbers.\"\"\"\n",
        "    return sum(numbers) / len(numbers) if numbers else 0  # Avoid division by zero\n",
        "\n",
        "def find_maximum(numbers):\n",
        "    \"\"\"Returns the maximum value from the given list of numbers.\"\"\"\n",
        "    return max(numbers)\n",
        "\n",
        "def find_minimum(numbers):\n",
        "    \"\"\"Returns the minimum value from the given list of numbers.\"\"\"\n",
        "    return min(numbers)\n",
        "\n",
        "def main():\n",
        "    print(\"Math Operations on a List\")\n",
        "    print(\"1. Sum\\n2. Average\\n3. Maximum\\n4. Minimum\")\n",
        "\n",
        "    choice = input(\"Enter your choice (1-4): \")\n",
        "    if choice not in [\"1\", \"2\", \"3\", \"4\"]:\n",
        "        print(\"Invalid choice! Please select a valid option.\")\n",
        "        return\n",
        "\n",
        "    try:\n",
        "        numbers = list(map(float, input(\"Enter numbers separated by spaces: \").split()))\n",
        "        if not numbers:\n",
        "            raise ValueError(\"The list is empty. Please enter at least one number.\")\n",
        "    except ValueError as e:\n",
        "        print(\"Invalid input!\", e)\n",
        "        return\n",
        "\n",
        "    operations = {\n",
        "        \"1\": (\"Sum\", calculate_sum),\n",
        "        \"2\": (\"Average\", calculate_average),\n",
        "        \"3\": (\"Maximum\", find_maximum),\n",
        "        \"4\": (\"Minimum\", find_minimum),\n",
        "    }\n",
        "\n",
        "    operation_name, operation_func = operations[choice]\n",
        "    result = operation_func(numbers)\n",
        "\n",
        "    print(f\"{operation_name}: {result}\")\n",
        "\n",
        "if __name__ == \"__main__\":\n",
        "    main()\n"
      ]
    },
    {
      "cell_type": "markdown",
      "metadata": {
        "id": "qkKzIohRg0UL"
      },
      "source": [
        "Exercise on List Manipulation:\n",
        "1. Extract Every Other Element:\n",
        "Write a Python function that extracts every other element from a list, starting from the first element.\n",
        "• Requirements:\n",
        "– Define a function extract every other(lst) that takes a list lst as input and returns a\n",
        "new list containing every other element from the original list.\n",
        "– Example: For the input [1, 2, 3, 4, 5, 6], the output should be [1, 3, 5]."
      ]
    },
    {
      "cell_type": "code",
      "execution_count": null,
      "metadata": {
        "colab": {
          "base_uri": "https://localhost:8080/"
        },
        "id": "_XbQLr7rg1UU",
        "outputId": "be9f7d09-d90c-4a21-ad36-ab3aef60dfe9"
      },
      "outputs": [
        {
          "name": "stdout",
          "output_type": "stream",
          "text": [
            "[1, 3, 5]\n"
          ]
        }
      ],
      "source": [
        "def extract_every_other(lst):\n",
        "    return lst[::2]\n",
        "numbers = [1, 2, 3, 4, 5, 6]\n",
        "result = extract_every_other(numbers)\n",
        "print(result)\n"
      ]
    },
    {
      "cell_type": "markdown",
      "metadata": {
        "id": "ZlxeJ8E0iNC0"
      },
      "source": [
        "Slice a Sublist:\n",
        "Write a Python function that returns a sublist from a given list, starting from a specified index and\n",
        "ending at another specified index.\n",
        "• Requirements:\n",
        "– Define a function get sublist(lst, start, end) that takes a list lst, a starting index\n",
        "start, and an ending index end as input and returns the sublist from start to end (inclusive).\n",
        "– Example: For the input [1, 2, 3, 4, 5, 6] with start=2 and end=4, the output should\n",
        "be [3, 4, 5]."
      ]
    },
    {
      "cell_type": "code",
      "execution_count": null,
      "metadata": {
        "colab": {
          "base_uri": "https://localhost:8080/"
        },
        "id": "HMB9KRkUiYvP",
        "outputId": "a012313f-8749-4062-f861-6db0315ac257"
      },
      "outputs": [
        {
          "name": "stdout",
          "output_type": "stream",
          "text": [
            "[3, 4, 5]\n"
          ]
        }
      ],
      "source": [
        "def get_sublist(lst,start,end):\n",
        "  return lst[start:end+1]\n",
        "numbers=[1,2,3,4,5,6]\n",
        "sublist=get_sublist(numbers,2,4)\n",
        "print(sublist)"
      ]
    },
    {
      "cell_type": "markdown",
      "metadata": {
        "id": "WxVZjf5Hliia"
      },
      "source": [
        "3. Reverse a List Using Slicing:\n",
        "Write a Python function that reverses a list using slicing.\n",
        "• Requirements:\n",
        "– Define a function reverse list(lst) that takes a list lst and returns a reversed list using\n",
        "slicing.\n",
        "– Example: For the input [1, 2, 3, 4, 5], the output should be [5, 4, 3, 2, 1]."
      ]
    },
    {
      "cell_type": "code",
      "execution_count": null,
      "metadata": {
        "colab": {
          "base_uri": "https://localhost:8080/"
        },
        "id": "JwQhCDuxljZD",
        "outputId": "763b25bd-8318-4ce5-dea4-94197cdedede"
      },
      "outputs": [
        {
          "name": "stdout",
          "output_type": "stream",
          "text": [
            "[1, 2, 3, 4, 5]\n"
          ]
        }
      ],
      "source": [
        "def reverse_list(lst):\n",
        "  return lst[::-1]\n",
        "\n",
        "numbers=[5,4,3,2,1]\n",
        "reversed_list=reverse_list(numbers)\n",
        "print(reversed_list)"
      ]
    },
    {
      "cell_type": "markdown",
      "metadata": {
        "id": "dniQ0DhAngX-"
      },
      "source": [
        "4. Remove the First and Last Elements:\n",
        "Write a Python function that removes the first and last elements of a list and returns the resulting\n",
        "sublist.\n",
        "• Requirements:\n",
        "– Define a function remove first last(lst) that takes a list lst and returns a sublist without\n",
        "the first and last elements using slicing.\n",
        "– Example: For the input [1, 2, 3, 4, 5], the output should be [2, 3, 4]."
      ]
    },
    {
      "cell_type": "code",
      "execution_count": null,
      "metadata": {
        "colab": {
          "base_uri": "https://localhost:8080/"
        },
        "id": "mHQ1qzdWnirX",
        "outputId": "aee27be7-9d18-415a-bdd4-e538865ddf55"
      },
      "outputs": [
        {
          "name": "stdout",
          "output_type": "stream",
          "text": [
            "[2, 3, 4]\n"
          ]
        }
      ],
      "source": [
        "def remove_first_last(lst):\n",
        "  return lst[1:-1]\n",
        "numbers=[1,2,3,4,5]\n",
        "result=remove_first_last(numbers)\n",
        "print(result)"
      ]
    },
    {
      "cell_type": "markdown",
      "metadata": {
        "id": "WHv0rLHypMp1"
      },
      "source": [
        "5. Get the First n Elements:\n",
        "Write a Python function that extracts the first n elements from a list.\n",
        "• Requirements:\n",
        "– Define a function get first n(lst, n) that takes a list lst and an integer n as input and\n",
        "returns the first n elements of the list using slicing.\n",
        "– Example: For the input [1, 2, 3, 4, 5] with n=3, the output should be [1, 2, 3]."
      ]
    },
    {
      "cell_type": "code",
      "execution_count": null,
      "metadata": {
        "colab": {
          "base_uri": "https://localhost:8080/"
        },
        "id": "DCE0uDRypN5Z",
        "outputId": "7e9292af-1f24-42f3-e311-857a48a15d54"
      },
      "outputs": [
        {
          "name": "stdout",
          "output_type": "stream",
          "text": [
            "[1, 2, 3]\n"
          ]
        }
      ],
      "source": [
        "def get_first_n(lst,n):\n",
        "  return lst[:n]\n",
        "numbers=[1,2,3,4,5]\n",
        "result=get_first_n(numbers,3)\n",
        "print(result)"
      ]
    },
    {
      "cell_type": "markdown",
      "metadata": {
        "id": "ArC8P_2bqHT0"
      },
      "source": [
        "Extract Elements from the End:\n",
        "Write a Python function that extracts the last n elements of a list using slicing.\n",
        "• Requirements:\n",
        "– Define a function get last n(lst, n) that takes a list lst and an integer n as input and\n",
        "returns the last n elements of the list.\n",
        "– Example: For the input [1, 2, 3, 4, 5] with n=2, the output should be [4, 5]."
      ]
    },
    {
      "cell_type": "code",
      "execution_count": null,
      "metadata": {
        "colab": {
          "base_uri": "https://localhost:8080/"
        },
        "id": "KT4K4qeUqJ2z",
        "outputId": "45ed3136-80f1-4ea2-df1e-db2c0391d7b2"
      },
      "outputs": [
        {
          "name": "stdout",
          "output_type": "stream",
          "text": [
            "[4, 5]\n"
          ]
        }
      ],
      "source": [
        "def get_last_n(lst,n):\n",
        "  return lst[-n:   ]\n",
        "numbers=[1,2,3,4,5]\n",
        "result=get_last_n(numbers,2)\n",
        "print(result)\n"
      ]
    },
    {
      "cell_type": "markdown",
      "metadata": {
        "id": "L9unF1K3rfXh"
      },
      "source": [
        "7. Extract Elements in Reverse Order:\n",
        "Write a Python function that extracts a list of elements in reverse order starting from the second-to-last\n",
        "element and skipping one element in between.\n",
        "• Requirements:\n",
        "– Define a function reverse skip(lst) that takes a list lst and returns a new list containing\n",
        "every second element starting from the second-to-last, moving backward.\n",
        "– Example: For the input [1, 2, 3, 4, 5, 6], the output should be [5, 3, 1]."
      ]
    },
    {
      "cell_type": "code",
      "execution_count": null,
      "metadata": {
        "colab": {
          "base_uri": "https://localhost:8080/"
        },
        "id": "OEIslZPirmdf",
        "outputId": "50457239-1395-47b0-d4e1-fba2d5304fb4"
      },
      "outputs": [
        {
          "name": "stdout",
          "output_type": "stream",
          "text": [
            "[5, 3, 1]\n"
          ]
        }
      ],
      "source": [
        "def reverse_skip(lst):\n",
        "    return lst[-2::-2]  # Slicing from second-to-last element and skipping one element backward\n",
        "\n",
        "numbers = [1, 2, 3, 4, 5, 6]\n",
        "result = reverse_skip(numbers)\n",
        "print(result)\n"
      ]
    },
    {
      "cell_type": "markdown",
      "metadata": {
        "id": "CgqBp8ajsGO-"
      },
      "source": [
        "Exercise on Nested List:\n",
        "1. Flatten a Nested List:\n",
        "Write a Python function that takes a nested list and flattens it into a single list, where all the elements\n",
        "are in a single dimension.\n",
        "• Requirements:\n",
        "– Define a function flatten(lst) that takes a nested list lst and returns a flattened version\n",
        "of the list.\n",
        "– Example: For the input [[1, 2], [3, 4], [5]], the output should be [1, 2, 3, 4, 5]."
      ]
    },
    {
      "cell_type": "code",
      "execution_count": null,
      "metadata": {
        "colab": {
          "base_uri": "https://localhost:8080/"
        },
        "id": "jmEt8mnjsP6S",
        "outputId": "08a1fb70-cc2b-4bbc-f7da-0a3db9a78e4b"
      },
      "outputs": [
        {
          "name": "stdout",
          "output_type": "stream",
          "text": [
            "[1, 2, 3, 4, 5]\n"
          ]
        }
      ],
      "source": [
        "def flatten(lst):\n",
        "    return [item for sublist in lst for item in sublist]\n",
        "\n",
        "\n",
        "nested_list = [[1, 2], [3, 4], [5]]\n",
        "result = flatten(nested_list)\n",
        "print(result)\n"
      ]
    },
    {
      "cell_type": "markdown",
      "metadata": {
        "id": "-VjQjqottQVk"
      },
      "source": [
        "2. Accessing Nested List Elements:\n",
        "Write a Python function that extracts a specific element from a nested list given its indices.\n",
        "• Requirements:\n",
        "– Define a function access nested element(lst, indices) that takes a nested list lst and\n",
        "a list of indices indices, and returns the element at that position.\n",
        "– Example: For the input lst = [[1, 2, 3], [4, 5, 6], [7, 8, 9]] with indices = [1,\n",
        "2], the output should be 6."
      ]
    },
    {
      "cell_type": "code",
      "execution_count": null,
      "metadata": {
        "colab": {
          "base_uri": "https://localhost:8080/"
        },
        "id": "3ardq9vEtYrb",
        "outputId": "53915827-8a76-4e43-bb66-cfa02107048b"
      },
      "outputs": [
        {
          "name": "stdout",
          "output_type": "stream",
          "text": [
            "6\n"
          ]
        }
      ],
      "source": [
        "def access_nested_element(lst, indices):\n",
        "    for index in indices:\n",
        "        lst = lst[index]\n",
        "    return lst\n",
        "\n",
        "\n",
        "nested_list = [[1, 2, 3], [4, 5, 6], [7, 8, 9]]\n",
        "indices = [1, 2]\n",
        "result = access_nested_element(nested_list, indices)\n",
        "print(result)"
      ]
    },
    {
      "cell_type": "markdown",
      "metadata": {
        "id": "9Dw7Xn7htgRp"
      },
      "source": [
        "3. Sum of All Elements in a Nested List:\n",
        "Write a Python function that calculates the sum of all the numbers in a nested list (regardless of depth).\n",
        "• Requirements:\n",
        "– Define a function sum nested(lst) that takes a nested list lst and returns the sum of all\n",
        "the elements.\n",
        "– Example: For the input [[1, 2], [3, [4, 5]], 6], the output should be 21."
      ]
    },
    {
      "cell_type": "code",
      "execution_count": null,
      "metadata": {
        "colab": {
          "base_uri": "https://localhost:8080/"
        },
        "id": "hW1Wf173thXi",
        "outputId": "cf5553d2-cf4a-4176-9ee4-7d02ac95c3cb"
      },
      "outputs": [
        {
          "name": "stdout",
          "output_type": "stream",
          "text": [
            "21\n"
          ]
        }
      ],
      "source": [
        "def sum_nested(lst):\n",
        "    total = 0\n",
        "    for element in lst:\n",
        "        if isinstance(element, list):\n",
        "            total += sum_nested(element)\n",
        "        else:\n",
        "            total += element\n",
        "    return total\n",
        "\n",
        "\n",
        "nested_list = [[1, 2], [3, [4, 5]], 6]\n",
        "result = sum_nested(nested_list)\n",
        "print(result)\n"
      ]
    },
    {
      "cell_type": "markdown",
      "metadata": {
        "id": "JdvrNXwYGX4y"
      },
      "source": [
        "4. Remove Specific Element from a Nested List:\n",
        "Write a Python function that removes all occurrences of a specific element from a nested list.\n",
        "• Requirements:\n",
        "– Define a function remove element(lst, elem) that removes elem from lst and returns the\n",
        "modified list.\n",
        "– Example: For the input lst = [[1, 2], [3, 2], [4, 5]] and elem = 2, the output should\n",
        "be [[1], [3], [4, 5]]."
      ]
    },
    {
      "cell_type": "code",
      "execution_count": null,
      "metadata": {
        "colab": {
          "base_uri": "https://localhost:8080/"
        },
        "id": "1o3D31g7GgTp",
        "outputId": "d212ce49-86cb-4be8-a094-2f2a81e199a7"
      },
      "outputs": [
        {
          "name": "stdout",
          "output_type": "stream",
          "text": [
            "[[1], [3], [4, 5]]\n"
          ]
        }
      ],
      "source": [
        "def remove_element(lst, elem):\n",
        "    result = []\n",
        "    for item in lst:\n",
        "        if isinstance(item, list):\n",
        "            filtered_sublist = remove_element(item, elem)  # Recursively process sublists\n",
        "            if filtered_sublist:  # Only add non-empty sublists\n",
        "                result.append(filtered_sublist)\n",
        "        elif item != elem:  # Keep the item if it's not the target element\n",
        "            result.append(item)\n",
        "    return result\n",
        "\n",
        "\n",
        "nested_list = [[1, 2], [3, 2], [4, 5]]\n",
        "element_to_remove = 2\n",
        "result = remove_element(nested_list, element_to_remove)\n",
        "print(result)\n"
      ]
    },
    {
      "cell_type": "markdown",
      "metadata": {
        "id": "c-Z4s7x2GoEE"
      },
      "source": [
        "5. Find the Maximum Element in a Nested List:\n",
        "Write a Python function that finds the maximum element in a nested list (regardless of depth).\n",
        "• Requirements:\n",
        "– Define a function find max(lst) that takes a nested list lst and returns the maximum\n",
        "element.\n",
        "– Example: For the input [[1, 2], [3, [4, 5]], 6], the output should be 6."
      ]
    },
    {
      "cell_type": "code",
      "execution_count": null,
      "metadata": {
        "colab": {
          "base_uri": "https://localhost:8080/"
        },
        "id": "2fIALbXSGo5J",
        "outputId": "e64a9786-4080-49f1-c543-8b5b68de91e6"
      },
      "outputs": [
        {
          "name": "stdout",
          "output_type": "stream",
          "text": [
            "6\n"
          ]
        }
      ],
      "source": [
        "def find_max(lst):\n",
        "    max_value = float('-inf')  # Initialize max_value to negative infinity\n",
        "\n",
        "    for item in lst:\n",
        "        if isinstance(item, list):\n",
        "            max_value = max(max_value, find_max(item))  # Recursively find max in sublists\n",
        "        else:\n",
        "            max_value = max(max_value, item)  # Compare with current max\n",
        "\n",
        "    return max_value\n",
        "\n",
        "\n",
        "nested_list = [[1, 2], [3, [4, 5]], 6]\n",
        "result = find_max(nested_list)\n",
        "print(result)\n"
      ]
    },
    {
      "cell_type": "markdown",
      "metadata": {
        "id": "ovfUK6TDGsZH"
      },
      "source": [
        "6. Count Occurrences of an Element in a Nested List:\n",
        "Write a Python function that counts how many times a specific element appears in a nested list.\n",
        "• Requirements:\n",
        "– Define a function count occurrences(lst, elem) that counts the occurrences of elem in\n",
        "the nested list lst.\n",
        "Example: For the input lst = [[1, 2], [2, 3], [2, 4]] and elem = 2, the output should\n",
        "be 3."
      ]
    },
    {
      "cell_type": "code",
      "execution_count": null,
      "metadata": {
        "colab": {
          "base_uri": "https://localhost:8080/"
        },
        "id": "o__LIYONG4EG",
        "outputId": "2f97ed71-47f1-4f11-c96f-f4688015b1cd"
      },
      "outputs": [
        {
          "name": "stdout",
          "output_type": "stream",
          "text": [
            "3\n"
          ]
        }
      ],
      "source": [
        "def count_occurrences(lst, elem):\n",
        "    count = 0  # Initialize count\n",
        "\n",
        "    for item in lst:\n",
        "        if isinstance(item, list):\n",
        "            count += count_occurrences(item, elem)  # Recursively count in sublists\n",
        "        elif item == elem:\n",
        "            count += 1  # Increment count if the element matches\n",
        "\n",
        "    return count\n",
        "\n",
        "\n",
        "nested_list = [[1, 2], [2, 3], [2, 4]]\n",
        "element_to_count = 2\n",
        "result = count_occurrences(nested_list, element_to_count)\n",
        "print(result)\n"
      ]
    },
    {
      "cell_type": "markdown",
      "metadata": {
        "id": "9bt5bp62HL6c"
      },
      "source": [
        "7. Flatten a List of Lists of Lists:\n",
        "Write a Python function that flattens a list of lists of lists into a single list, regardless of the depth.\n",
        "• Requirements:\n",
        "– Define a function deep flatten(lst) that takes a deeply nested list lst and returns a single\n",
        "flattened list.\n",
        "– Example: For the input [[[1, 2], [3, 4]], [[5, 6], [7, 8]]], the output should be\n",
        "[1, 2, 3, 4, 5, 6, 7, 8]."
      ]
    },
    {
      "cell_type": "code",
      "execution_count": null,
      "metadata": {
        "colab": {
          "base_uri": "https://localhost:8080/"
        },
        "id": "c3VS5CbYHMen",
        "outputId": "6dd57f62-818f-45f9-96a8-be8fa27f5271"
      },
      "outputs": [
        {
          "name": "stdout",
          "output_type": "stream",
          "text": [
            "[1, 2, 3, 4, 5, 6, 7, 8]\n"
          ]
        }
      ],
      "source": [
        "def deep_flatten(lst):\n",
        "    flattened = []  # Initialize an empty list to store the flattened elements\n",
        "\n",
        "    for item in lst:\n",
        "        if isinstance(item, list):\n",
        "            flattened.extend(deep_flatten(item))  # Recursively flatten sublists\n",
        "        else:\n",
        "            flattened.append(item)  # Add non-list items directly to the flattened list\n",
        "\n",
        "    return flattened\n",
        "nested_list = [[[1, 2], [3, 4]], [[5, 6], [7, 8]]]\n",
        "result = deep_flatten(nested_list)\n",
        "print(result)"
      ]
    },
    {
      "cell_type": "markdown",
      "metadata": {
        "id": "iFZfyC5lHaS3"
      },
      "source": [
        "8. Nested List Average:\n",
        "Write a Python function that calculates the average of all elements in a nested list.\n",
        "• Requirements:\n",
        "– Define a function average nested(lst) that takes a nested list lst and returns the average\n",
        "of all the elements.\n",
        "– Example: For the input [[1, 2], [3, 4], [5, 6]], the output should be 3.5."
      ]
    },
    {
      "cell_type": "code",
      "execution_count": null,
      "metadata": {
        "colab": {
          "base_uri": "https://localhost:8080/"
        },
        "id": "XSoWO3oXHcDz",
        "outputId": "4b3ec7bb-9aeb-48a8-fb6c-fba5ec518b78"
      },
      "outputs": [
        {
          "name": "stdout",
          "output_type": "stream",
          "text": [
            "3.5\n"
          ]
        }
      ],
      "source": [
        "def average_nested(lst):\n",
        "    def deep_flatten(lst):\n",
        "        flattened = []\n",
        "        for item in lst:\n",
        "            if isinstance(item, list):\n",
        "                flattened.extend(deep_flatten(item))  # Recursively flatten sublists\n",
        "            else:\n",
        "                flattened.append(item)\n",
        "        return flattened\n",
        "\n",
        "    flattened_list = deep_flatten(lst)  # Get a single-level list\n",
        "    if not flattened_list:  # Handle empty lists\n",
        "        return 0\n",
        "\n",
        "    return sum(flattened_list) / len(flattened_list)  # Calculate the average\n",
        "\n",
        "\n",
        "nested_list = [[1, 2], [3, 4], [5, 6]]\n",
        "result = average_nested(nested_list)\n",
        "print(result)"
      ]
    },
    {
      "cell_type": "markdown",
      "metadata": {
        "id": "uZBsZNd0Hmx0"
      },
      "source": [
        "10. To - Do - NumPy\n",
        "10.1 Basic Vector and Matrix Operation with Numpy.\n",
        "Problem - 1: Array Creation:\n",
        "Complete the following Tasks:\n",
        "1. Initialize an empty array with size 2X2.\n",
        "2. Initialize an all one array with size 4X2.\n",
        "3. Return a new array of given shape and type, filled with fill value.{Hint: np.full}\n",
        "4. Return a new array of zeros with same shape and type as a given array.{Hint: np.zeros like}\n",
        "5. Return a new array of ones with same shape and type as a given array.{Hint: np.ones like}\n",
        "6. For an existing list new_list = [1,2,3,4] convert to an numpy array.{Hint: np.array()}"
      ]
    },
    {
      "cell_type": "code",
      "execution_count": null,
      "metadata": {
        "colab": {
          "base_uri": "https://localhost:8080/"
        },
        "id": "d7o0i2bBH1ZS",
        "outputId": "2793bcfc-ce16-4e24-d6f5-01d78bb97e53"
      },
      "outputs": [
        {
          "name": "stdout",
          "output_type": "stream",
          "text": [
            "Empty 2x2 Array:\n",
            " [[2.12963247e-316 0.00000000e+000]\n",
            " [7.35874515e+223 6.52022889e+252]]\n",
            "\n",
            "All Ones 4x2 Array:\n",
            " [[1. 1.]\n",
            " [1. 1.]\n",
            " [1. 1.]\n",
            " [1. 1.]]\n",
            "\n",
            "3x3 Array Filled with 7:\n",
            " [[7 7 7]\n",
            " [7 7 7]\n",
            " [7 7 7]]\n",
            "\n",
            "Zeros Array with Same Shape as Reference Array:\n",
            " [[0 0 0]\n",
            " [0 0 0]]\n",
            "\n",
            "Ones Array with Same Shape as Reference Array:\n",
            " [[1 1 1]\n",
            " [1 1 1]]\n",
            "\n",
            "Converted NumPy Array:\n",
            " [1 2 3 4]\n"
          ]
        }
      ],
      "source": [
        "import numpy as np\n",
        "\n",
        "\n",
        "empty_array = np.empty((2, 2))\n",
        "print(\"Empty 2x2 Array:\\n\", empty_array)\n",
        "\n",
        "ones_array = np.ones((4, 2))\n",
        "print(\"\\nAll Ones 4x2 Array:\\n\", ones_array)\n",
        "\n",
        "\n",
        "fill_value_array = np.full((3, 3), 7)  # Example: A 3x3 array filled with 7\n",
        "print(\"\\n3x3 Array Filled with 7:\\n\", fill_value_array)\n",
        "\n",
        "\n",
        "reference_array = np.array([[1, 2, 3], [4, 5, 6]])\n",
        "zeros_like_array = np.zeros_like(reference_array)\n",
        "print(\"\\nZeros Array with Same Shape as Reference Array:\\n\", zeros_like_array)\n",
        "\n",
        "# 5. Return a new array of ones with the same shape and type as a given array\n",
        "ones_like_array = np.ones_like(reference_array)\n",
        "print(\"\\nOnes Array with Same Shape as Reference Array:\\n\", ones_like_array)\n",
        "\n",
        "# 6. Convert a list to a NumPy array\n",
        "new_list = [1, 2, 3, 4]\n",
        "numpy_array = np.array(new_list)\n",
        "print(\"\\nConverted NumPy Array:\\n\", numpy_array)\n"
      ]
    },
    {
      "cell_type": "markdown",
      "metadata": {
        "id": "zNKjpsRjH1q7"
      },
      "source": [
        "Problem - 2: Array Manipulation: Numerical Ranges and Array indexing:\n",
        "Complete the following tasks:\n",
        "1. Create an array with values ranging from 10 to 49. {Hint:np.arrange()}.\n",
        "2. Create a 3X3 matrix with values ranging from 0 to 8.\n",
        "{Hint:look for np.reshape()}\n",
        "3. Create a 3X3 identity matrix.{Hint:np.eye()}\n",
        "4. Create a random array of size 30 and find the mean of the array.\n",
        "{Hint:check for np.random.random() and array.mean() function}\n",
        "5. Create a 10X10 array with random values and find the minimum and maximum values.\n",
        "6. Create a zero array of size 10 and replace 5th element with 1.\n",
        "7. Reverse an array arr = [1,2,0,0,4,0].\n",
        "8. Create a 2d array with 1 on border and 0 inside.\n",
        "9. Create a 8X8 matrix and fill it with a checkerboard pattern."
      ]
    },
    {
      "cell_type": "code",
      "execution_count": null,
      "metadata": {
        "colab": {
          "base_uri": "https://localhost:8080/"
        },
        "id": "0PJxWR45H2WY",
        "outputId": "5a588ee1-141f-4e83-dae9-5d5063584fc4"
      },
      "outputs": [
        {
          "name": "stdout",
          "output_type": "stream",
          "text": [
            "Array from 10 to 49:\n",
            " [10 11 12 13 14 15 16 17 18 19 20 21 22 23 24 25 26 27 28 29 30 31 32 33\n",
            " 34 35 36 37 38 39 40 41 42 43 44 45 46 47 48 49]\n",
            "\n",
            "3x3 Matrix with values from 0 to 8:\n",
            " [[0 1 2]\n",
            " [3 4 5]\n",
            " [6 7 8]]\n",
            "\n",
            "3x3 Identity Matrix:\n",
            " [[1. 0. 0.]\n",
            " [0. 1. 0.]\n",
            " [0. 0. 1.]]\n",
            "\n",
            "Random array of size 30:\n",
            " [0.8910879  0.61621692 0.56496837 0.46448959 0.32651584 0.26209829\n",
            " 0.06910168 0.84295384 0.55217501 0.33475308 0.79212266 0.02622532\n",
            " 0.47679907 0.38591462 0.73270767 0.0604923  0.72140644 0.35547536\n",
            " 0.26743839 0.8550456  0.70010356 0.43326857 0.97340012 0.22312646\n",
            " 0.87680207 0.90716324 0.63224768 0.19632197 0.9927671  0.215425  ]\n",
            "Mean of the array: 0.524953790662278\n",
            "\n",
            "10x10 Random Matrix:\n",
            " [[0.72965699 0.7611198  0.89570194 0.35833247 0.84482467 0.63529551\n",
            "  0.96324628 0.20331422 0.87637961 0.65165281]\n",
            " [0.66533934 0.83570853 0.30616946 0.86458276 0.90828235 0.11738779\n",
            "  0.23124544 0.17445921 0.43212224 0.67475678]\n",
            " [0.48537172 0.52658854 0.76255328 0.36684898 0.5023933  0.83328725\n",
            "  0.24968735 0.85298398 0.27096701 0.91612486]\n",
            " [0.64932356 0.33096112 0.34391485 0.99697968 0.43374997 0.12398826\n",
            "  0.41979333 0.18015482 0.92091516 0.06769911]\n",
            " [0.68201821 0.14915315 0.47613065 0.2168443  0.71232016 0.07542495\n",
            "  0.23890888 0.46947535 0.66677641 0.87855568]\n",
            " [0.8096355  0.92237541 0.08338654 0.183258   0.46958513 0.16393084\n",
            "  0.27921986 0.42332347 0.26886896 0.4839815 ]\n",
            " [0.53801518 0.65881327 0.1796426  0.58655487 0.68986054 0.30978792\n",
            "  0.99480655 0.77971513 0.8268045  0.58470023]\n",
            " [0.60537713 0.13094895 0.24176625 0.34685086 0.09445598 0.72700735\n",
            "  0.34833043 0.14799218 0.17021998 0.18339783]\n",
            " [0.27195398 0.5957075  0.17125526 0.9800058  0.85250177 0.88241362\n",
            "  0.45690427 0.72695249 0.91694929 0.78621223]\n",
            " [0.29535648 0.05137247 0.88285548 0.58450853 0.52629314 0.11404756\n",
            "  0.58634708 0.65650008 0.23359564 0.51527542]]\n",
            "Minimum Value: 0.05137247161947822\n",
            "Maximum Value: 0.9969796809781591\n",
            "\n",
            "Zero Array with 5th Element as 1:\n",
            " [0. 0. 0. 0. 1. 0. 0. 0. 0. 0.]\n",
            "\n",
            "Reversed Array:\n",
            " [0 4 0 0 2 1]\n",
            "\n",
            "2D Array with Border 1 and Inside 0:\n",
            " [[1. 1. 1. 1. 1.]\n",
            " [1. 0. 0. 0. 1.]\n",
            " [1. 0. 0. 0. 1.]\n",
            " [1. 0. 0. 0. 1.]\n",
            " [1. 1. 1. 1. 1.]]\n",
            "\n",
            "8x8 Checkerboard Pattern:\n",
            " [[0 1 0 1 0 1 0 1]\n",
            " [1 0 1 0 1 0 1 0]\n",
            " [0 1 0 1 0 1 0 1]\n",
            " [1 0 1 0 1 0 1 0]\n",
            " [0 1 0 1 0 1 0 1]\n",
            " [1 0 1 0 1 0 1 0]\n",
            " [0 1 0 1 0 1 0 1]\n",
            " [1 0 1 0 1 0 1 0]]\n"
          ]
        }
      ],
      "source": [
        "import numpy as np\n",
        "\n",
        "# 1. Create an array with values ranging from 10 to 49\n",
        "array_10_49 = np.arange(10, 50)\n",
        "print(\"Array from 10 to 49:\\n\", array_10_49)\n",
        "\n",
        "# 2. Create a 3x3 matrix with values ranging from 0 to 8\n",
        "matrix_3x3 = np.arange(9).reshape(3, 3)\n",
        "print(\"\\n3x3 Matrix with values from 0 to 8:\\n\", matrix_3x3)\n",
        "\n",
        "# 3. Create a 3x3 identity matrix\n",
        "identity_matrix = np.eye(3)\n",
        "print(\"\\n3x3 Identity Matrix:\\n\", identity_matrix)\n",
        "\n",
        "# 4. Create a random array of size 30 and find the mean\n",
        "random_array_30 = np.random.random(30)\n",
        "mean_value = random_array_30.mean()\n",
        "print(\"\\nRandom array of size 30:\\n\", random_array_30)\n",
        "print(\"Mean of the array:\", mean_value)\n",
        "\n",
        "# 5. Create a 10x10 array with random values and find the min and max values\n",
        "random_matrix_10x10 = np.random.random((10, 10))\n",
        "min_value = random_matrix_10x10.min()\n",
        "max_value = random_matrix_10x10.max()\n",
        "print(\"\\n10x10 Random Matrix:\\n\", random_matrix_10x10)\n",
        "print(\"Minimum Value:\", min_value)\n",
        "print(\"Maximum Value:\", max_value)\n",
        "\n",
        "# 6. Create a zero array of size 10 and replace the 5th element with 1\n",
        "zero_array = np.zeros(10)\n",
        "zero_array[4] = 1  # Index 4 is the 5th element (0-based indexing)\n",
        "print(\"\\nZero Array with 5th Element as 1:\\n\", zero_array)\n",
        "\n",
        "# 7. Reverse an array arr = [1,2,0,0,4,0]\n",
        "arr = np.array([1, 2, 0, 0, 4, 0])\n",
        "reversed_arr = arr[::-1]\n",
        "print(\"\\nReversed Array:\\n\", reversed_arr)\n",
        "\n",
        "# 8. Create a 2D array with 1 on the border and 0 inside\n",
        "border_array = np.ones((5, 5))\n",
        "border_array[1:-1, 1:-1] = 0\n",
        "print(\"\\n2D Array with Border 1 and Inside 0:\\n\", border_array)\n",
        "\n",
        "# 9. Create an 8x8 matrix and fill it with a checkerboard pattern\n",
        "checkerboard = np.zeros((8, 8), dtype=int)\n",
        "checkerboard[1::2, ::2] = 1  # Fill 1 in alternate positions\n",
        "checkerboard[::2, 1::2] = 1\n",
        "print(\"\\n8x8 Checkerboard Pattern:\\n\", checkerboard)\n"
      ]
    },
    {
      "cell_type": "markdown",
      "metadata": {
        "id": "XJXLNrkYKSrW"
      },
      "source": [
        "Problem - 3: Array Operations:\n",
        "For the following arrays:\n",
        "x = np.array([[1,2],[3,5]]) and y = np.array([[5,6],[7,8]]);\n",
        "v = np.array([9,10]) and w = np.array([11,12]);\n",
        "Complete all the task using numpy:\n",
        "1. Add the two array.\n",
        "2. Subtract the two array.\n",
        "3. Multiply the array with any integers of your choice.\n",
        "4. Find the square of each element of the array.\n",
        "5. Find the dot product between: v(and)w ; x(and)v ; x(and)y.\n",
        "6. Concatenate x(and)y along row and Concatenate v(and)w along column.\n",
        "{Hint:try np.concatenate() or np.vstack() functions.\n",
        "7. Concatenate x(and)v; if you get an error, observe and explain why did you get the error?"
      ]
    },
    {
      "cell_type": "code",
      "execution_count": null,
      "metadata": {
        "colab": {
          "base_uri": "https://localhost:8080/"
        },
        "id": "VLCYmJlBKYbi",
        "outputId": "aff2783e-49ba-49a2-bf5b-84ce0b76808d"
      },
      "outputs": [
        {
          "name": "stdout",
          "output_type": "stream",
          "text": [
            "Addition of x and y:\n",
            " [[ 6  8]\n",
            " [10 13]]\n",
            "\n",
            "Subtraction of x and y:\n",
            " [[-4 -4]\n",
            " [-4 -3]]\n",
            "\n",
            "Multiplication of x with 3:\n",
            " [[ 3  6]\n",
            " [ 9 15]]\n",
            "\n",
            "Square of each element in x:\n",
            " [[ 1  4]\n",
            " [ 9 25]]\n",
            "\n",
            "Dot product of v and w: 219\n",
            "Dot product of x and v:\n",
            " [29 77]\n",
            "Dot product of x and y:\n",
            " [[19 22]\n",
            " [50 58]]\n",
            "\n",
            "Concatenation of x and y along rows:\n",
            " [[1 2]\n",
            " [3 5]\n",
            " [5 6]\n",
            " [7 8]]\n",
            "\n",
            "Concatenation of v and w along columns:\n",
            " [[ 9 11]\n",
            " [10 12]]\n",
            "\n",
            "Error while concatenating x and v: all the input arrays must have same number of dimensions, but the array at index 0 has 2 dimension(s) and the array at index 1 has 1 dimension(s)\n"
          ]
        }
      ],
      "source": [
        "import numpy as np\n",
        "\n",
        "# Define the given arrays\n",
        "x = np.array([[1, 2], [3, 5]])\n",
        "y = np.array([[5, 6], [7, 8]])\n",
        "v = np.array([9, 10])\n",
        "w = np.array([11, 12])\n",
        "\n",
        "# 1. Add the two arrays (element-wise)\n",
        "add_xy = x + y\n",
        "print(\"Addition of x and y:\\n\", add_xy)\n",
        "\n",
        "# 2. Subtract the two arrays (element-wise)\n",
        "subtract_xy = x - y\n",
        "print(\"\\nSubtraction of x and y:\\n\", subtract_xy)\n",
        "\n",
        "# 3. Multiply the array x with an integer (e.g., 3)\n",
        "multiply_x = x * 3\n",
        "print(\"\\nMultiplication of x with 3:\\n\", multiply_x)\n",
        "\n",
        "# 4. Find the square of each element of x\n",
        "square_x = np.square(x)\n",
        "print(\"\\nSquare of each element in x:\\n\", square_x)\n",
        "\n",
        "# 5. Find the dot product\n",
        "dot_vw = np.dot(v, w)  # Dot product of vectors v and w\n",
        "dot_xv = np.dot(x, v)  # Dot product of matrix x and vector v\n",
        "dot_xy = np.dot(x, y)  # Dot product of matrices x and y\n",
        "\n",
        "print(\"\\nDot product of v and w:\", dot_vw)\n",
        "print(\"Dot product of x and v:\\n\", dot_xv)\n",
        "print(\"Dot product of x and y:\\n\", dot_xy)\n",
        "\n",
        "# 6. Concatenate x and y along rows (axis=0)\n",
        "concat_xy = np.concatenate((x, y), axis=0)\n",
        "print(\"\\nConcatenation of x and y along rows:\\n\", concat_xy)\n",
        "\n",
        "# Concatenate v and w along columns (reshaping them to column vectors)\n",
        "concat_vw = np.concatenate((v.reshape(-1, 1), w.reshape(-1, 1)), axis=1)\n",
        "print(\"\\nConcatenation of v and w along columns:\\n\", concat_vw)\n",
        "\n",
        "# 7. Concatenate x and v\n",
        "try:\n",
        "    concat_xv = np.concatenate((x, v), axis=0)  # Attempting to concatenate x and v\n",
        "    print(\"\\nConcatenation of x and v:\\n\", concat_xv)\n",
        "except ValueError as e:\n",
        "    print(\"\\nError while concatenating x and v:\", e)\n"
      ]
    },
    {
      "cell_type": "markdown",
      "metadata": {
        "id": "2fSmpZEKLc4v"
      },
      "source": [
        "10.2 Experiment: How Fast is Numpy?"
      ]
    },
    {
      "cell_type": "markdown",
      "metadata": {
        "id": "sBIz03YILdnM"
      },
      "source": [
        "1. Element-wise Addition:\n",
        "• Using Python Lists, perform element-wise addition of two lists of size 1, 000, 000. Measure\n",
        "and Print the time taken for this operation.\n",
        "• Using Numpy Arrays, Repeat the calculation and measure and print the time taken for\n",
        "this operation."
      ]
    },
    {
      "cell_type": "code",
      "execution_count": null,
      "metadata": {
        "colab": {
          "base_uri": "https://localhost:8080/"
        },
        "id": "j4gsfJ2SLz4d",
        "outputId": "fff69cc6-09d1-491f-805f-791bda810af1"
      },
      "outputs": [
        {
          "name": "stdout",
          "output_type": "stream",
          "text": [
            "Time taken for element-wise addition using Python Lists: 0.1358168125152588 seconds\n",
            "Time taken for element-wise addition using Numpy Arrays: 0.013085365295410156 seconds\n"
          ]
        }
      ],
      "source": [
        "import time\n",
        "import numpy as np\n",
        "\n",
        "# Create two lists of size 1,000,000 with random values\n",
        "list1 = [i for i in range(1, 1000001)]\n",
        "list2 = [i for i in range(1000000, 0, -1)]\n",
        "\n",
        "# Measure time for Python List element-wise addition\n",
        "start_time = time.time()\n",
        "result_list = [list1[i] + list2[i] for i in range(len(list1))]\n",
        "end_time = time.time()\n",
        "print(f\"Time taken for element-wise addition using Python Lists: {end_time - start_time} seconds\")\n",
        "\n",
        "# Create two numpy arrays of size 1,000,000 with random values\n",
        "array1 = np.arange(1, 1000001)\n",
        "array2 = np.arange(1000000, 0, -1)\n",
        "\n",
        "# Measure time for Numpy Array element-wise addition\n",
        "start_time = time.time()\n",
        "result_array = array1 + array2\n",
        "end_time = time.time()\n",
        "print(f\"Time taken for element-wise addition using Numpy Arrays: {end_time - start_time} seconds\")\n"
      ]
    },
    {
      "cell_type": "markdown",
      "metadata": {
        "id": "byNbLX_lLfbq"
      },
      "source": [
        "2. Element-wise Multiplication\n",
        "• Using Python Lists, perform element-wise multiplication of two lists of size 1, 000, 000.\n",
        "Measure and Print the time taken for this operation.\n",
        "• Using Numpy Arrays, Repeat the calculation and measure and print the time taken for\n",
        "this operation."
      ]
    },
    {
      "cell_type": "code",
      "execution_count": null,
      "metadata": {
        "colab": {
          "base_uri": "https://localhost:8080/"
        },
        "id": "gCj83gNCL34m",
        "outputId": "e7dafab7-a3cf-49c4-900b-e1470d1efe31"
      },
      "outputs": [
        {
          "name": "stdout",
          "output_type": "stream",
          "text": [
            "Time taken for element-wise multiplication using Python Lists: 0.09694623947143555 seconds\n",
            "Time taken for element-wise multiplication using Numpy Arrays: 0.007936477661132812 seconds\n"
          ]
        }
      ],
      "source": [
        "import time\n",
        "import numpy as np\n",
        "\n",
        "# Create two lists of size 1,000,000 with random values\n",
        "list1 = [i for i in range(1, 1000001)]\n",
        "list2 = [i for i in range(1000000, 0, -1)]\n",
        "\n",
        "# Measure time for Python List element-wise multiplication\n",
        "start_time = time.time()\n",
        "result_list = [list1[i] * list2[i] for i in range(len(list1))]\n",
        "end_time = time.time()\n",
        "print(f\"Time taken for element-wise multiplication using Python Lists: {end_time - start_time} seconds\")\n",
        "\n",
        "# Create two numpy arrays of size 1,000,000 with random values\n",
        "array1 = np.arange(1, 1000001)\n",
        "array2 = np.arange(1000000, 0, -1)\n",
        "\n",
        "# Measure time for Numpy Array element-wise multiplication\n",
        "start_time = time.time()\n",
        "result_array = array1 * array2\n",
        "end_time = time.time()\n",
        "print(f\"Time taken for element-wise multiplication using Numpy Arrays: {end_time - start_time} seconds\")\n"
      ]
    },
    {
      "cell_type": "markdown",
      "metadata": {
        "id": "HqNIaDoMLhPL"
      },
      "source": [
        "3. Dot Product\n",
        "• Using Python Lists, compute the dot product of two lists of size 1, 000, 000. Measure and\n",
        "Print the time taken for this operation.\n",
        "• Using Numpy Arrays, Repeat the calculation and measure and print the time taken for\n",
        "this operation."
      ]
    },
    {
      "cell_type": "code",
      "execution_count": null,
      "metadata": {
        "colab": {
          "base_uri": "https://localhost:8080/"
        },
        "id": "R-yU7U6fL8BC",
        "outputId": "3db31aab-dde0-46d7-d737-5882c3bb7e8d"
      },
      "outputs": [
        {
          "name": "stdout",
          "output_type": "stream",
          "text": [
            "Time taken for dot product using Python Lists: 0.12972736358642578 seconds\n",
            "Time taken for dot product using Numpy Arrays: 0.0023522377014160156 seconds\n"
          ]
        }
      ],
      "source": [
        "import time\n",
        "import numpy as np\n",
        "\n",
        "# Create two lists of size 1,000,000 with random values\n",
        "list1 = [i for i in range(1, 1000001)]\n",
        "list2 = [i for i in range(1000000, 0, -1)]\n",
        "\n",
        "# Measure time for Python List dot product\n",
        "start_time = time.time()\n",
        "dot_product_list = sum(list1[i] * list2[i] for i in range(len(list1)))\n",
        "end_time = time.time()\n",
        "print(f\"Time taken for dot product using Python Lists: {end_time - start_time} seconds\")\n",
        "\n",
        "# Create two numpy arrays of size 1,000,000 with random values\n",
        "array1 = np.arange(1, 1000001)\n",
        "array2 = np.arange(1000000, 0, -1)\n",
        "\n",
        "# Measure time for Numpy Array dot product\n",
        "start_time = time.time()\n",
        "dot_product_array = np.dot(array1, array2)\n",
        "end_time = time.time()\n",
        "print(f\"Time taken for dot product using Numpy Arrays: {end_time - start_time} seconds\")\n"
      ]
    },
    {
      "cell_type": "markdown",
      "metadata": {
        "id": "KDQ_FO4QLlGA"
      },
      "source": [
        "4. Matrix Multiplication\n",
        "\n",
        "• Using Python lists, perform matrix multiplication of two matrices of size 1000x1000. Mea-\n",
        "sure and print the time taken for this operation.\n",
        "\n",
        "• Using NumPy arrays, perform matrix multiplication of two matrices of size 1000x1000.\n",
        "Measure and print the time taken for this operation."
      ]
    },
    {
      "cell_type": "code",
      "execution_count": null,
      "metadata": {
        "colab": {
          "background_save": true
        },
        "id": "7o2-OPueMFj0",
        "outputId": "133202ea-5853-4c95-9912-19579ea02af2"
      },
      "outputs": [
        {
          "name": "stdout",
          "output_type": "stream",
          "text": [
            "Time taken for matrix multiplication using Python Lists: 195.26472997665405 seconds\n",
            "Time taken for matrix multiplication using Numpy Arrays: 0.08686065673828125 seconds\n"
          ]
        }
      ],
      "source": [
        "import time\n",
        "import numpy as np\n",
        "\n",
        "# Create two random 1000x1000 matrices using Python lists\n",
        "matrix1_list = [[i + j for j in range(1000)] for i in range(1000)]\n",
        "matrix2_list = [[i - j for j in range(1000)] for i in range(1000)]\n",
        "\n",
        "# Measure time for matrix multiplication using Python Lists\n",
        "start_time = time.time()\n",
        "result_list = [[sum(matrix1_list[i][k] * matrix2_list[k][j] for k in range(1000)) for j in range(1000)] for i in range(1000)]\n",
        "end_time = time.time()\n",
        "print(f\"Time taken for matrix multiplication using Python Lists: {end_time - start_time} seconds\")\n",
        "\n",
        "# Create two random 1000x1000 matrices using NumPy arrays\n",
        "matrix1_array = np.random.rand(1000, 1000)\n",
        "matrix2_array = np.random.rand(1000, 1000)\n",
        "\n",
        "# Measure time for matrix multiplication using Numpy Arrays\n",
        "start_time = time.time()\n",
        "result_array = np.dot(matrix1_array, matrix2_array)\n",
        "end_time = time.time()\n",
        "print(f\"Time taken for matrix multiplication using Numpy Arrays: {end_time - start_time} seconds\")\n"
      ]
    }
  ],
  "metadata": {
    "colab": {
      "provenance": []
    },
    "kernelspec": {
      "display_name": "Python 3",
      "name": "python3"
    },
    "language_info": {
      "name": "python"
    }
  },
  "nbformat": 4,
  "nbformat_minor": 0
}